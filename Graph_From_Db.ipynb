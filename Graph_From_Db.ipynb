#!/usr/bin/env python

import csv
import os
import MySQLdb
import sys
import getpass
from warnings import filterwarnings
user = raw_input('Enter Username: ')
passwd =  getpass.getpass('Enter Password: ')
mydb = raw_input('Enter Database: ')
inputPath = raw_input('Enter Path to Files:')

for file in os.listdir(inputPath):
    if file.endswith(".csv"):
        # Open database connection
        inputFile = os.path.join(inputPath, file)
        db = MySQLdb.connect(host='localhost',
            user= user,
            passwd= passwd,
            db= mydb)
        # prepare a cursor object using cursor() method
        filterwarnings('ignore', category = db.Warning)

        cursor = db.cursor()
        enum=0
        ReaderFile = open(inputFile, "rb")
        csv_data = csv.reader(ReaderFile)
        next(csv_data, None)
        for row in csv_data:
            # Prepare SQL query to INSERT a record into the database.
            sql ="INSERT INTO sdss_dr_12_v_1_0_2(\
                objid, ra, decl, l, b, psfMag_u, psfMag_g, psfMag_r, psfMag_i, \
                psfMag_z, extinction_u, extinction_g, extinction_r, extinction_i, \
                extinction_z) \
                VALUES (\
                %s, %s, %s, %s, %s, %s, %s, %s, %s, %s,\
                %s, %s, %s, %s, %s)" % tuple(row)
            try:
                # Execute the SQL command
                cursor.execute(sql)
                # Commit your changes in the database
                db.commit()
            except MySQLdb.Error, e:
                # Rollback in case there is any error
                try:
                    enum+=1
                    #print "MySQL Error [%d]: %s" % (e.args[0], e.args[1])
                except IndexError:
                    enum+=1
                    #print "MySQL Error: %s" % str(e)
                #print row
                db.rollback()
        # disconnect from server
        ReaderFile.close()
        db.close()
        print "{0} - errors {1}".format(inputFile, enum)
    else:
        print "Not a csv file"
print "Done"
