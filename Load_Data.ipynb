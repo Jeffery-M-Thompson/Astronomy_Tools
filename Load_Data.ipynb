{
 "cells": [
  {
   "cell_type": "code",
   "execution_count": 7,
   "metadata": {
    "collapsed": false
   },
   "outputs": [
    {
     "name": "stdout",
     "output_type": "stream",
     "text": [
      "Username:jthompson\n",
      "Password········\n",
      "Mysql Server [localhost]:\n",
      "Schema:MTSO\n",
      "CSV File Path:/Users/jeff/Documents/Astronomy_Research/Sag_South/CasJobs/MSTSouth_Neg_15_To_Neg_20_jthompson.csv\n",
      "Done\n"
     ]
    }
   ],
   "source": [
    "import sys\n",
    "import getpass\n",
    "import MySQLdb\n",
    "import csv\n",
    "\n",
    "def getCredentials():\n",
    "    usrnm = raw_input('Username:')\n",
    "    psswd = getpass.getpass('Password')\n",
    "    servr = raw_input('Mysql Server [localhost]:') or \"localhost\"\n",
    "    dtbse = raw_input('Schema:')  \n",
    "    return usrnm, psswd, servr, dtbse\n",
    "\n",
    "def getFile():\n",
    "    fileName = raw_input('CSV File Path:')\n",
    "    return fileName\n",
    "\n",
    "username, password, server, schema = getCredentials()\n",
    "path = getFile()\n",
    "\n",
    "# Open database connection\n",
    "db = MySQLdb.connect(server,username,password,schema)\n",
    "\n",
    "# prepare a cursor object using cursor() method\n",
    "cursor = db.cursor()\n",
    "\n",
    "with open(path) as csvfile:\n",
    "    reader = csv.DictReader(csvfile)\n",
    "    for row in reader:\n",
    "        # Prepare SQL query to INSERT a record into the database.\n",
    "        sql = \"INSERT INTO sdss_dr_12_v_1_0_2(objID, \\\n",
    "        ra, decl, b, l, psfMag_u, psfMag_g, psfMag_r, \\\n",
    "        psfMag_i, psfMag_z, extinction_u, extinction_g, \\\n",
    "        extinction_r, extinction_i, extinction_z) \\\n",
    "        VALUES (%s, %s, %s, %s, %s, %s, %s, %s, \\\n",
    "        %s, %s, %s, %s, %s, %s, %s)\"\n",
    "        data = (row['objid'], row['ra'], row['dec'], row['b'], \\\n",
    "                row['l'], row['psfMag_u'], row['psfMag_g'], \\\n",
    "                row['psfMag_r'], row['psfMag_i'], row['psfMag_z'], \\\n",
    "                row['extinction_u'], row['extinction_g'], \\\n",
    "                row['extinction_r'], row['extinction_i'], \\\n",
    "                row['extinction_z'])\n",
    "        try:\n",
    "            # Execute the SQL command\n",
    "            cursor.execute(sql, data)\n",
    "            # Commit your changes in the database\n",
    "            db.commit()\n",
    "        except MySQLdb.IntegrityError, e: \n",
    "            print e\n",
    "            db.rollback()\n",
    "        except MySQLdb.Error, e:\n",
    "            print e\n",
    "            db.rollback()\n",
    "        except MySQLdb.Warning, e:\n",
    "            print e\n",
    "            db.rollback()\n",
    "# disconnect from server\n",
    "db.close()\n",
    "print \"Done\""
   ]
  },
  {
   "cell_type": "code",
   "execution_count": null,
   "metadata": {
    "collapsed": true
   },
   "outputs": [],
   "source": [
    " "
   ]
  }
 ],
 "metadata": {
  "kernelspec": {
   "display_name": "Python 2",
   "language": "python",
   "name": "python2"
  },
  "language_info": {
   "codemirror_mode": {
    "name": "ipython",
    "version": 2
   },
   "file_extension": ".py",
   "mimetype": "text/x-python",
   "name": "python",
   "nbconvert_exporter": "python",
   "pygments_lexer": "ipython2",
   "version": "2.7.10"
  }
 },
 "nbformat": 4,
 "nbformat_minor": 0
}
