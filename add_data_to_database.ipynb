{
 "cells": [
  {
   "cell_type": "code",
   "execution_count": null,
   "metadata": {
    "collapsed": false
   },
   "outputs": [],
   "source": [
    "#!/usr/bin/env python\n",
    "\n",
    "import csv\n",
    "import MySQLdb\n",
    "import sys\n",
    "import getpass\n",
    "from warnings import filterwarnings\n",
    "user = raw_input('Enter Username: ')\n",
    "passwd =  getpass.getpass('Enter Password: ')\n",
    "mydb = raw_input('Enter Database: ')\n",
    "inputFile = raw_input('Enter Path to File:')\n",
    "\n",
    "# Open database connection\n",
    "\n",
    "db = MySQLdb.connect(host='localhost',\n",
    "    user= user,\n",
    "    passwd= passwd,\n",
    "    db= mydb)\n",
    "    \n",
    "# prepare a cursor object using cursor() method\n",
    "filterwarnings('ignore', category = db.Warning)\n",
    "\n",
    "cursor = db.cursor()\n",
    "enum=0\n",
    "csv_data = csv.reader(file(inputFile))\n",
    "next(csv_data, None)\n",
    "for row in csv_data:\n",
    "    # Prepare SQL query to INSERT a record into the database.\n",
    "\n",
    "    sql =\"INSERT INTO sdss_dr_12_v_1_0_2(\\\n",
    "            objid, ra, decl, l, b, psfMag_u, psfMag_g, psfMag_r, psfMag_i, \\\n",
    "            psfMag_z, extinction_u, extinction_g, extinction_r, extinction_i, \\\n",
    "            extinction_z) \\\n",
    "            VALUES (\\\n",
    "            %s, %s, %s, %s, %s, %s, %s, %s, %s, %s,\\\n",
    "            %s, %s, %s, %s, %s)\" % tuple(row)\n",
    "    try:\n",
    "        # Execute the SQL command\n",
    "        cursor.execute(sql)\n",
    "        # Commit your changes in the database\n",
    "        db.commit()\n",
    "    except MySQLdb.Error, e:\n",
    "        # Rollback in case there is any error\n",
    "        try:\n",
    "            enum+=1\n",
    "            #print \"MySQL Error [%d]: %s\" % (e.args[0], e.args[1])\n",
    "        except IndexError:\n",
    "            enum+=1\n",
    "            #print \"MySQL Error: %s\" % str(e)\n",
    "        #print row\n",
    "        db.rollback()\n",
    "# disconnect from server\n",
    "db.close()\n",
    "print \"Done\"\n",
    "print enum"
   ]
  },
  {
   "cell_type": "code",
   "execution_count": null,
   "metadata": {
    "collapsed": true
   },
   "outputs": [],
   "source": []
  }
 ],
 "metadata": {
  "kernelspec": {
   "display_name": "Python 2",
   "language": "python",
   "name": "python2"
  },
  "language_info": {
   "codemirror_mode": {
    "name": "ipython",
    "version": 2
   },
   "file_extension": ".py",
   "mimetype": "text/x-python",
   "name": "python",
   "nbconvert_exporter": "python",
   "pygments_lexer": "ipython2",
   "version": "2.7.10"
  }
 },
 "nbformat": 4,
 "nbformat_minor": 0
}
