%matplotlib inline
import MySQLdb
import sys
import getpass
import matplotlib as mpl
import matplotlib.pyplot as plt
import matplotlib.colors as color
import matplotlib.cm as cm
from mpl_toolkits.axes_grid1 import make_axes_locatable
import numpy as np

# create color map
# This algorithm came was derived from reading https://www.particleincell.com/2014/colormap/
def data_bin (row, theta, delta_r):
    r = 90.0 - np.abs(row)
    theta = np.pi/180.0*theta
    row = int(r/delta_r)
    tbin = int(theta/(2*np.pi)*(6*row+3))
    return 3*row**2 + tbin   

# bin properties
no_r_bins = int(raw_input('Enter Bins in Radial direction: '))
gamma = float(raw_input('Enter Power Law Gamma: '))
radius = 90                     # number of r sized bins in the radial direction
delta_r = radius/float(no_r_bins)   # we use a unit size for the bin
no_bins = 3*no_r_bins**2            # total number of bins
bins = {0:0}

# create bin boundaries
fig = plt.figure(num=None, figsize=(12, 10), dpi=300, facecolor='w', edgecolor='k')
ax=plt.subplot2grid((1,10), (0, 0), colspan=8, projection='polar')
cb=plt.subplot2grid((1,10), (0, 8), colspan=1)
#ax = ax1.add_axes([0.1, 0.1, 0.8, 0.8], polar=True)
#ax.set_rticks([-90, -45, 0.0])
# Read Data from the Database

user = raw_input('Enter Username: ')
passwd =  getpass.getpass('Enter Password: ')
mydb = raw_input('Enter Database: ')


# Open database connection

db = MySQLdb.connect(host='localhost',
    user= user,
    passwd= passwd,
    db= mydb)
    
# prepare a cursor object using cursor() method

cursor = db.cursor()

query = "select l, b from sdss_dr_12_v_1_0_2"

try:
    # Execute the SQL command
    cursor.execute(query)
    # Fetch all the rows in a list of lists.
    results = cursor.fetchall()
    for row in results:
        theta = row[0]
        r = row[1]
        bin_no = data_bin(r, theta, delta_r)
        if bins.has_key(bin_no):
            bins[bin_no]+=1
        else:
            bins[bin_no] = 1
        
except:
   print "Error: unable to fecth data"
import operator

# disconnect from server
db.close()

minCount = 1
maxCount, maxBin =  max(zip(bins.values(), bins.keys()))

#norm = color.Normalize(vmin=minCount, vmax=maxCount)
#norm = color.LogNorm(vmin=minCount, vmax=maxCount)
norm = color.PowerNorm( gamma, vmin=minCount, vmax=maxCount)
cmap = cm.rainbow
cmap.set_under('w')


row = int(np.ceil(np.sqrt(int(maxBin/3+1))))
delta_theta = (2.0*np.pi)/float((6*(row)-3))
theta_bin = maxBin - 3*(row-1)**2
r_min = (row-1)*delta_r
r_max = row*delta_r
rAv = (r_max+r_min)/2.0
theta_min = theta_bin * delta_theta
theta_max = theta_min + delta_theta
thetaAv = (180.0/np.pi)*(theta_max+theta_min)/2.0

print max(zip(bins.values(), bins.keys()))
print "There are {0} stars in bin {1} which is located at ({2},{3})".format(maxCount, maxBin, rAv, thetaAv)

for bin_no, count in bins.iteritems():
    row = int(np.ceil(np.sqrt(int(bin_no/3+1))))
    delta_theta = (2.0*np.pi)/float((6*(row)-3))
    theta_bin = bin_no - 3*(row-1)**2
    r_min = (row-1)*delta_r
    r_max = row*delta_r
    theta_min = theta_bin * delta_theta
    theta_max = theta_min + delta_theta
    theta = np.arange(theta_min, theta_max, 1.0/(4*no_r_bins))
    r_1 = r_min + 0*theta
    r_2 = r_max + 0*theta
    scolor = cm.ScalarMappable(norm=norm, cmap=cmap)
    ax.fill_between(theta, r_1, r_2, color=scolor.to_rgba(count), interpolate = True)   

cbar = mpl.colorbar.ColorbarBase(cb, cmap=cmap, norm=norm, orientation='vertical')    
plt.show()
